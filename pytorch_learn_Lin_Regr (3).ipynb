{
  "nbformat": 4,
  "nbformat_minor": 0,
  "metadata": {
    "colab": {
      "provenance": []
    },
    "kernelspec": {
      "name": "python3",
      "display_name": "Python 3"
    },
    "language_info": {
      "name": "python"
    }
  },
  "cells": [
    {
      "cell_type": "code",
      "execution_count": null,
      "metadata": {
        "id": "aN09wJPqu4th"
      },
      "outputs": [],
      "source": [
        "import torch\n",
        "from torch import nn\n",
        "import matplotlib.pyplot as plt"
      ]
    },
    {
      "cell_type": "code",
      "source": [
        "class LinearRegression(nn.Module):\n",
        "  def __init__(self):\n",
        "    super().__init__()\n",
        "    self.weights = nn.Parameter(torch.randn(1,dtype=torch.float,requires_grad=True))\n",
        "    self.bias = nn.Parameter(torch.randn(1,dtype=torch.float,requires_grad=True))\n",
        "  def forward(self,x:torch.tensor)-> torch.tensor:\n",
        "    return self.weights*x+self.bias"
      ],
      "metadata": {
        "id": "NXXV3QwOvH87"
      },
      "execution_count": null,
      "outputs": []
    },
    {
      "cell_type": "markdown",
      "source": [
        "This code defines a LinearRegression class that implements a basic linear regression model. It predicts a continuous value based on a single input feature.\n",
        "\n",
        "1. **class LinearRegression(nn.Module):**\n",
        "\n",
        "  This line inherits from nn.Module, the foundation for building neural networks in PyTorch.\n",
        "\n",
        "  Inheritance provides essential features like automatic differentiation for training the model.\n",
        "\n",
        "2. **Initialization (__init__ function):**\n",
        "\n",
        "  This method initializes the model's parameters when you create an instance (e.g., model = LinearRegression()).\n",
        "\n",
        "3. **super().__init__()**\n",
        "\n",
        "  Initializes the inherited attributes and functionalities from the parent class (nn.Module).\n",
        "\n",
        "4. **self.weights = nn.Parameter(torch.randn(1, dtype=torch.float, requires_grad=True))**\n",
        "\n",
        "  Creates a parameter named weights using nn.Parameter. This ensures the tensor is tracked for gradient calculation during training.\n",
        "\n",
        "5. **torch.randn(1, dtype=torch.float, requires_grad=True)**:\n",
        "\n",
        "  Initializes the weights tensor with random values of size (1,) (a single value), representing the coefficient m.\n",
        "\n",
        "  **dtype** : Sets the data type to torch.float for floating-point numbers.\n",
        "\n",
        "  **requires_grad** : Sets it True to track gradients for weight updates during training.\n",
        "\n",
        "6. self.bias = nn.Parameter(torch.randn(1, dtype=torch.float, requires_grad=True))\n",
        "\n",
        "  Creates a parameter named bias 'b' similar to weights.\n",
        "\n",
        "3. **def forward(self, x: torch.tensor) -> torch.tensor:**\n",
        "\n",
        "  This method defines the model's forward pass, which takes the input data (x) and calculates the predicted output.\n",
        "\n",
        "  return self.weights * x + self.bias\n",
        "\n",
        "Performs the core linear regression calculation Y = m * X + b\n"
      ],
      "metadata": {
        "id": "jMQjfkTSvuAm"
      }
    },
    {
      "cell_type": "code",
      "source": [
        "# Create an Ideal Line data for testing\n",
        "\n",
        "weights = 0.8\n",
        "bias = 0.2\n",
        "start = 0\n",
        "end = 1\n",
        "steps = 0.01\n",
        "X = torch.arange(start,end,steps)\n",
        "y = X*weights + bias\n",
        "split = int( 0.8*len(X))\n",
        "Xtrain , ytrain = X[:split], y[:split]\n",
        "Xtest , ytest = X[split:],y[split:]\n",
        "print(len(Xtrain),len(ytrain),len(Xtest),len(ytest))\n"
      ],
      "metadata": {
        "colab": {
          "base_uri": "https://localhost:8080/"
        },
        "id": "whZHqxYlx5TX",
        "outputId": "cd9f1d33-b656-44c4-f63f-7ff1917f5ccb"
      },
      "execution_count": null,
      "outputs": [
        {
          "output_type": "stream",
          "name": "stdout",
          "text": [
            "80 80 20 20\n"
          ]
        }
      ]
    },
    {
      "cell_type": "code",
      "source": [
        "ytest.dtype"
      ],
      "metadata": {
        "colab": {
          "base_uri": "https://localhost:8080/"
        },
        "id": "DN5w-SCcqUiG",
        "outputId": "a8ea1c51-033c-4e62-c5a7-5b1b5d3c55e3"
      },
      "execution_count": null,
      "outputs": [
        {
          "output_type": "execute_result",
          "data": {
            "text/plain": [
              "torch.float32"
            ]
          },
          "metadata": {},
          "execution_count": 28
        }
      ]
    },
    {
      "cell_type": "code",
      "source": [
        "# Set manual seed since nn.Parameter are randomly initialzied\n",
        "torch.manual_seed(42)\n",
        "\n",
        "# instantiate the class\n",
        "model = LinearRegression()\n",
        "\n",
        "# Check the nn.Parameter(s) within the nn.Module subclass we created\n",
        "param = model.parameters()\n",
        "list(param)"
      ],
      "metadata": {
        "id": "l7NFI5s-zf90",
        "colab": {
          "base_uri": "https://localhost:8080/"
        },
        "outputId": "a70cd077-8eb2-463f-a98b-97defcde2ccc"
      },
      "execution_count": null,
      "outputs": [
        {
          "output_type": "execute_result",
          "data": {
            "text/plain": [
              "[Parameter containing:\n",
              " tensor([0.3367], requires_grad=True),\n",
              " Parameter containing:\n",
              " tensor([0.1288], requires_grad=True)]"
            ]
          },
          "metadata": {},
          "execution_count": 29
        }
      ]
    },
    {
      "cell_type": "code",
      "source": [
        "# get the state (what the model contains) of the model using .state_dict().\n",
        "model.state_dict()"
      ],
      "metadata": {
        "colab": {
          "base_uri": "https://localhost:8080/"
        },
        "id": "_X6uAZwfDDj1",
        "outputId": "4d247a6a-9f6b-44fa-d588-f3ff2730bf06"
      },
      "execution_count": null,
      "outputs": [
        {
          "output_type": "execute_result",
          "data": {
            "text/plain": [
              "OrderedDict([('weights', tensor([0.3367])), ('bias', tensor([0.1288]))])"
            ]
          },
          "metadata": {},
          "execution_count": 30
        }
      ]
    },
    {
      "cell_type": "code",
      "source": [
        "# Regarding with statement:\n",
        "# with open('file_path', 'w') as file:\n",
        "    # file.write('hello world !')\n",
        "# Note that the with statement here acts as an environment, automatically acquires and releases resources"
      ],
      "metadata": {
        "id": "2-MZw3jUH6UU"
      },
      "execution_count": null,
      "outputs": []
    },
    {
      "cell_type": "code",
      "source": [
        "# Making predictions using torch.inference_mode()\n",
        "# When we pass data to our model, it'll go through the model's forward() method and produce a result using the computation we've defined.\n",
        "with torch.inference_mode():\n",
        "  ypred = model(Xtest)\n",
        "\n",
        "# we used torch.inference_mode() as a context manager to make the predictions.\n",
        "\n",
        "# torch.inference_mode() is used when using a model for inference (making predictions).\n",
        "\n",
        "# torch.inference_mode() turns off a bunch of things (like gradient tracking, which is necessary for training but not for inference) to make forward-passes (data going through the forward() method) faster."
      ],
      "metadata": {
        "id": "JtUpyLjAJg-y"
      },
      "execution_count": null,
      "outputs": []
    },
    {
      "cell_type": "code",
      "source": [
        "from sklearn.metrics import r2_score, mean_squared_error"
      ],
      "metadata": {
        "id": "u8KajJMyKR05"
      },
      "execution_count": null,
      "outputs": []
    },
    {
      "cell_type": "code",
      "source": [
        "mean_squared_error(ytest,ypred)"
      ],
      "metadata": {
        "colab": {
          "base_uri": "https://localhost:8080/"
        },
        "id": "YKabXYH845b6",
        "outputId": "6f57a10c-01b5-4a1a-8f5c-37e4d993ce0c"
      },
      "execution_count": null,
      "outputs": [
        {
          "output_type": "execute_result",
          "data": {
            "text/plain": [
              "0.2367666"
            ]
          },
          "metadata": {},
          "execution_count": 34
        }
      ]
    },
    {
      "cell_type": "code",
      "source": [
        "r2_score(ytest,ypred)"
      ],
      "metadata": {
        "colab": {
          "base_uri": "https://localhost:8080/"
        },
        "id": "q4HDJ-BhKTMP",
        "outputId": "0476ed54-ff11-4dcf-f589-ebd32df4d5e5"
      },
      "execution_count": null,
      "outputs": [
        {
          "output_type": "execute_result",
          "data": {
            "text/plain": [
              "-110.26250739718242"
            ]
          },
          "metadata": {},
          "execution_count": 35
        }
      ]
    },
    {
      "cell_type": "code",
      "source": [
        "def plot_pred(Xtrain,ytrain, Xtest,ytest,ypred=None):\n",
        "  #plt.figure(figsize=(8,4))\n",
        "  plt.plot(Xtrain,ytrain,c='b',label='training pts')\n",
        "  plt.plot(Xtest,ytest,c='g',label='test pts')\n",
        "  plt.plot(Xtest,ypred,c='r',label='test pts')\n",
        "  plt.legend()"
      ],
      "metadata": {
        "id": "cp8Vh-1aKV-n"
      },
      "execution_count": null,
      "outputs": []
    },
    {
      "cell_type": "code",
      "source": [
        "plot_pred(Xtrain,ytrain,Xtest,ytest,ypred)"
      ],
      "metadata": {
        "colab": {
          "base_uri": "https://localhost:8080/",
          "height": 331
        },
        "id": "V8LgMxJ4QmH1",
        "outputId": "59d879e6-e0b5-4206-9caa-d3c2c48cc871"
      },
      "execution_count": null,
      "outputs": [
        {
          "output_type": "display_data",
          "data": {
            "text/plain": [
              "<Figure size 640x480 with 1 Axes>"
            ],
            "image/png": "[encoded data removed]"
          },
          "metadata": {}
        }
      ]
    },
    {
      "cell_type": "markdown",
      "source": [
        "# Train Model"
      ],
      "metadata": {
        "id": "xKNgq5CMNlPd"
      }
    },
    {
      "cell_type": "markdown",
      "source": [
        "**Loss function**\n",
        "\tMeasures how wrong your models predictions (e.g. y_preds) are compared to the truth labels (e.g. y_test).\n",
        "  Lower the better.\n",
        "  \n",
        "  PyTorch has plenty of built-in loss functions in torch.nn.\n",
        "  \n",
        "  Mean absolute error (MAE) for regression problems (torch.nn.L1Loss()).\n",
        "\n",
        "  Binary cross entropy for binary classification problems (torch.nn.BCELoss()).\n",
        "  \n",
        "  # ----------------------------------------------"
      ],
      "metadata": {
        "id": "pyeRPge9NrjV"
      }
    },
    {
      "cell_type": "markdown",
      "source": [
        "**Optimizer**\tTells your model how to update its internal parameters to best lower the loss.\n",
        "\n",
        "There are various optimization fn implementations in torch.optim.\n",
        "\n",
        "Stochastic gradient descent (torch.optim.SGD()).\n",
        "\n",
        "Adam optimizer (torch.optim.Adam())."
      ],
      "metadata": {
        "id": "X9zGfnHTOEOn"
      }
    },
    {
      "cell_type": "code",
      "source": [
        "mae = nn.L1Loss() # Mean absolute error (MAE, in PyTorch: torch.nn.L1Loss)\n",
        "optim = torch.optim.SGD(params = model.parameters(), lr = 0.01 ) # torch.optim.SGD(model_params, learning_rate)"
      ],
      "metadata": {
        "id": "7eo8NtrENvXU"
      },
      "execution_count": null,
      "outputs": []
    },
    {
      "cell_type": "markdown",
      "source": [
        "**Creating an optimization loop in PyTorch**\n",
        "\n",
        "Consists of Training and Testing parts run for a number of epochs:\n",
        "\n",
        "**In Training:**\n",
        "\n",
        "  Put the model in Training Mode : model.train()\n",
        "\n",
        "  Forward pass : Get ypred for trianing pts by model(Xtrain)\n",
        "\n",
        "  Calculate the loss : calculate loss by loss = loss_fn(ypred,ytrain)\n",
        "\n",
        "  Optimizers gradients :  are set to zero  so they can be recalculated for the specific training step by optim.zero_grad()\n",
        "\n",
        "  Backward Propogation : apply on loss data obtained from lossfn to update gradients, loss.backward()\n",
        "\n",
        "  Update the optimizer : all params with requires_grad = True are updated wrt gradients, optim.step()\n",
        "\n",
        "**In Testing**\n",
        "\n",
        "  Put the model in Test mode : model.eval()\n",
        "\n",
        "  Enter the inference_mode\n",
        "\n",
        "  Get ypred for Test data : ypred = model(Xtest)\n",
        "\n",
        "  Loss for Test Data : Calculate using loss = lossfn(ypred,ytest)\n",
        "\n",
        "  Display loss : At every few epochs update 3 arrays, train_loss_values, test_loss_values, epoch_count and print the same for each epoch.\n",
        "\n",
        "\n",
        "\n",
        "\n",
        "\n",
        "\n",
        "\n",
        "\n",
        "\n",
        "\n"
      ],
      "metadata": {
        "id": "ti5cqzyidly_"
      }
    },
    {
      "cell_type": "code",
      "source": [
        "torch.manual_seed(42)\n",
        "\n",
        "epochs = 1000\n",
        "\n",
        "epoch_cnt = []\n",
        "train_loss = []\n",
        "test_loss = []\n",
        "\n",
        "for i in range(epochs):\n",
        "  #Training Part\n",
        "  model.train()\n",
        "  ypred = model(ytrain)\n",
        "  loss1 = mae(ypred,ytrain)\n",
        "  optim.zero_grad()\n",
        "  loss1.backward() #apply on the result of lossfn not the lossfn itself\n",
        "  optim.step()\n",
        "  #Testing Part\n",
        "  model.eval()\n",
        "  with torch.inference_mode():\n",
        "    ypred = model(Xtest)\n",
        "    loss2 = mae(ypred,ytest)\n",
        "    if i %10 ==0:\n",
        "      epoch_cnt.append(i)\n",
        "      train_loss.append(loss1.detach().numpy()) # .detach(): It isolates the loss value from the computational graph, making it a simple Python number for storing and visualizing.\n",
        "                                                # .numpy(): Converts the PyTorch tensor into a NumPy array, compatible with plotting libraries like Matplotlib.\n",
        "      test_loss.append(loss2.detach().numpy())\n",
        "      print(f\"for epoch {i}, the train loss : {loss1}, the test loss : {loss2}\")\n"
      ],
      "metadata": {
        "colab": {
          "base_uri": "https://localhost:8080/"
        },
        "id": "dAeK3yCqdcPI",
        "outputId": "4d39ed97-66a6-4865-b923-4aa88d5ac7f5"
      },
      "execution_count": null,
      "outputs": [
        {
          "output_type": "stream",
          "name": "stdout",
          "text": [
            "for epoch 0, the train loss : 0.2134583443403244, the test loss : 0.4712345004081726\n",
            "for epoch 10, the train loss : 0.12975099682807922, the test loss : 0.3564964830875397\n",
            "for epoch 20, the train loss : 0.10007001459598541, the test loss : 0.28709572553634644\n",
            "for epoch 30, the train loss : 0.09014905244112015, the test loss : 0.24836869537830353\n",
            "for epoch 40, the train loss : 0.08608438074588776, the test loss : 0.22606053948402405\n",
            "for epoch 50, the train loss : 0.08362151682376862, the test loss : 0.21357235312461853\n",
            "for epoch 60, the train loss : 0.08151166141033173, the test loss : 0.2054928094148636\n",
            "for epoch 70, the train loss : 0.07947142422199249, the test loss : 0.19851763546466827\n",
            "for epoch 80, the train loss : 0.07745961099863052, the test loss : 0.19376201927661896\n",
            "for epoch 90, the train loss : 0.07545603811740875, the test loss : 0.18900641798973083\n",
            "for epoch 100, the train loss : 0.07345364987850189, the test loss : 0.18462073802947998\n",
            "for epoch 110, the train loss : 0.0714493840932846, the test loss : 0.18023505806922913\n",
            "for epoch 120, the train loss : 0.06944509595632553, the test loss : 0.17584939301013947\n",
            "for epoch 130, the train loss : 0.06744159013032913, the test loss : 0.17109379172325134\n",
            "for epoch 140, the train loss : 0.06543915718793869, the test loss : 0.1667081117630005\n",
            "for epoch 150, the train loss : 0.06343486905097961, the test loss : 0.16232243180274963\n",
            "for epoch 160, the train loss : 0.06143058463931084, the test loss : 0.15793675184249878\n",
            "for epoch 170, the train loss : 0.05942714214324951, the test loss : 0.15318116545677185\n",
            "for epoch 180, the train loss : 0.0574246421456337, the test loss : 0.1487954705953598\n",
            "for epoch 190, the train loss : 0.05542036145925522, the test loss : 0.14440980553627014\n",
            "for epoch 200, the train loss : 0.05341608449816704, the test loss : 0.14002415537834167\n",
            "for epoch 210, the train loss : 0.05141269415616989, the test loss : 0.13526853919029236\n",
            "for epoch 220, the train loss : 0.049410130828619, the test loss : 0.13088282942771912\n",
            "for epoch 230, the train loss : 0.04740585759282112, the test loss : 0.12649719417095184\n",
            "for epoch 240, the train loss : 0.04540157690644264, the test loss : 0.12211152166128159\n",
            "for epoch 250, the train loss : 0.04339824989438057, the test loss : 0.11735592037439346\n",
            "for epoch 260, the train loss : 0.041395630687475204, the test loss : 0.11297023296356201\n",
            "for epoch 270, the train loss : 0.03939134627580643, the test loss : 0.10858454555273056\n",
            "for epoch 280, the train loss : 0.03738706558942795, the test loss : 0.1041988879442215\n",
            "for epoch 290, the train loss : 0.03538379818201065, the test loss : 0.09944325685501099\n",
            "for epoch 300, the train loss : 0.033381134271621704, the test loss : 0.09505753219127655\n",
            "for epoch 310, the train loss : 0.03137684985995293, the test loss : 0.0906718522310257\n",
            "for epoch 320, the train loss : 0.029372582212090492, the test loss : 0.08628614991903305\n",
            "for epoch 330, the train loss : 0.027369365096092224, the test loss : 0.08153051137924194\n",
            "for epoch 340, the train loss : 0.025366615504026413, the test loss : 0.0771448016166687\n",
            "for epoch 350, the train loss : 0.023362334817647934, the test loss : 0.07275911420583725\n",
            "for epoch 360, the train loss : 0.021358054131269455, the test loss : 0.06837340444326401\n",
            "for epoch 370, the train loss : 0.01935489848256111, the test loss : 0.06361778825521469\n",
            "for epoch 380, the train loss : 0.017352111637592316, the test loss : 0.05923209339380264\n",
            "for epoch 390, the train loss : 0.015347841195762157, the test loss : 0.05484645441174507\n",
            "for epoch 400, the train loss : 0.013343553058803082, the test loss : 0.05046074837446213\n",
            "for epoch 410, the train loss : 0.011340474709868431, the test loss : 0.04570514336228371\n",
            "for epoch 420, the train loss : 0.009337617084383965, the test loss : 0.04131950065493584\n",
            "for epoch 430, the train loss : 0.007333335932344198, the test loss : 0.03693380951881409\n",
            "for epoch 440, the train loss : 0.00532905338332057, the test loss : 0.03254809230566025\n",
            "for epoch 450, the train loss : 0.0033260141499340534, the test loss : 0.02779248356819153\n",
            "for epoch 460, the train loss : 0.0069720083847641945, the test loss : 0.018885493278503418\n",
            "for epoch 470, the train loss : 0.0069720083847641945, the test loss : 0.018885493278503418\n",
            "for epoch 480, the train loss : 0.0069720083847641945, the test loss : 0.018885493278503418\n",
            "for epoch 490, the train loss : 0.0069720083847641945, the test loss : 0.018885493278503418\n",
            "for epoch 500, the train loss : 0.0069720083847641945, the test loss : 0.018885493278503418\n",
            "for epoch 510, the train loss : 0.0069720083847641945, the test loss : 0.018885493278503418\n",
            "for epoch 520, the train loss : 0.0069720083847641945, the test loss : 0.018885493278503418\n",
            "for epoch 530, the train loss : 0.0069720083847641945, the test loss : 0.018885493278503418\n",
            "for epoch 540, the train loss : 0.0069720083847641945, the test loss : 0.018885493278503418\n",
            "for epoch 550, the train loss : 0.0069720083847641945, the test loss : 0.018885493278503418\n",
            "for epoch 560, the train loss : 0.0069720083847641945, the test loss : 0.018885493278503418\n",
            "for epoch 570, the train loss : 0.0069720083847641945, the test loss : 0.018885493278503418\n",
            "for epoch 580, the train loss : 0.0069720083847641945, the test loss : 0.018885493278503418\n",
            "for epoch 590, the train loss : 0.0069720083847641945, the test loss : 0.018885493278503418\n",
            "for epoch 600, the train loss : 0.0069720083847641945, the test loss : 0.018885493278503418\n",
            "for epoch 610, the train loss : 0.0069720083847641945, the test loss : 0.018885493278503418\n",
            "for epoch 620, the train loss : 0.0069720083847641945, the test loss : 0.018885493278503418\n",
            "for epoch 630, the train loss : 0.0069720083847641945, the test loss : 0.018885493278503418\n",
            "for epoch 640, the train loss : 0.0069720083847641945, the test loss : 0.018885493278503418\n",
            "for epoch 650, the train loss : 0.0069720083847641945, the test loss : 0.018885493278503418\n",
            "for epoch 660, the train loss : 0.0069720083847641945, the test loss : 0.018885493278503418\n",
            "for epoch 670, the train loss : 0.0069720083847641945, the test loss : 0.018885493278503418\n",
            "for epoch 680, the train loss : 0.0069720083847641945, the test loss : 0.018885493278503418\n",
            "for epoch 690, the train loss : 0.0069720083847641945, the test loss : 0.018885493278503418\n",
            "for epoch 700, the train loss : 0.0069720083847641945, the test loss : 0.018885493278503418\n",
            "for epoch 710, the train loss : 0.0069720083847641945, the test loss : 0.018885493278503418\n",
            "for epoch 720, the train loss : 0.0069720083847641945, the test loss : 0.018885493278503418\n",
            "for epoch 730, the train loss : 0.0069720083847641945, the test loss : 0.018885493278503418\n",
            "for epoch 740, the train loss : 0.0069720083847641945, the test loss : 0.018885493278503418\n",
            "for epoch 750, the train loss : 0.0069720083847641945, the test loss : 0.018885493278503418\n",
            "for epoch 760, the train loss : 0.0069720083847641945, the test loss : 0.018885493278503418\n",
            "for epoch 770, the train loss : 0.0069720083847641945, the test loss : 0.018885493278503418\n",
            "for epoch 780, the train loss : 0.0069720083847641945, the test loss : 0.018885493278503418\n",
            "for epoch 790, the train loss : 0.0069720083847641945, the test loss : 0.018885493278503418\n",
            "for epoch 800, the train loss : 0.0069720083847641945, the test loss : 0.018885493278503418\n",
            "for epoch 810, the train loss : 0.0069720083847641945, the test loss : 0.018885493278503418\n",
            "for epoch 820, the train loss : 0.0069720083847641945, the test loss : 0.018885493278503418\n",
            "for epoch 830, the train loss : 0.0069720083847641945, the test loss : 0.018885493278503418\n",
            "for epoch 840, the train loss : 0.0069720083847641945, the test loss : 0.018885493278503418\n",
            "for epoch 850, the train loss : 0.0069720083847641945, the test loss : 0.018885493278503418\n",
            "for epoch 860, the train loss : 0.0069720083847641945, the test loss : 0.018885493278503418\n",
            "for epoch 870, the train loss : 0.0069720083847641945, the test loss : 0.018885493278503418\n",
            "for epoch 880, the train loss : 0.0069720083847641945, the test loss : 0.018885493278503418\n",
            "for epoch 890, the train loss : 0.0069720083847641945, the test loss : 0.018885493278503418\n",
            "for epoch 900, the train loss : 0.0069720083847641945, the test loss : 0.018885493278503418\n",
            "for epoch 910, the train loss : 0.0069720083847641945, the test loss : 0.018885493278503418\n",
            "for epoch 920, the train loss : 0.0069720083847641945, the test loss : 0.018885493278503418\n",
            "for epoch 930, the train loss : 0.0069720083847641945, the test loss : 0.018885493278503418\n",
            "for epoch 940, the train loss : 0.0069720083847641945, the test loss : 0.018885493278503418\n",
            "for epoch 950, the train loss : 0.0069720083847641945, the test loss : 0.018885493278503418\n",
            "for epoch 960, the train loss : 0.0069720083847641945, the test loss : 0.018885493278503418\n",
            "for epoch 970, the train loss : 0.0069720083847641945, the test loss : 0.018885493278503418\n",
            "for epoch 980, the train loss : 0.0069720083847641945, the test loss : 0.018885493278503418\n",
            "for epoch 990, the train loss : 0.0069720083847641945, the test loss : 0.018885493278503418\n"
          ]
        }
      ]
    },
    {
      "cell_type": "markdown",
      "source": [
        "# Plotting Curves"
      ],
      "metadata": {
        "id": "9ukyTtdIsXw5"
      }
    },
    {
      "cell_type": "code",
      "source": [
        "plt.plot(epoch_cnt,train_loss,label = 'Train Loss', c= 'b')\n",
        "plt.plot(epoch_cnt,test_loss,label='Test Loss', c = 'r')\n",
        "plt.title('Loss curves')\n",
        "plt.xlabel('Epochs')\n",
        "plt.legend()\n",
        "plt.show()"
      ],
      "metadata": {
        "colab": {
          "base_uri": "https://localhost:8080/",
          "height": 363
        },
        "id": "9wIIx5BPi1CX",
        "outputId": "a79aa311-b0fa-4e41-b3c6-92b7c1707dee"
      },
      "execution_count": null,
      "outputs": [
        {
          "output_type": "display_data",
          "data": {
            "text/plain": [
              "<Figure size 640x480 with 1 Axes>"
            ],
            "image/png": "[encoded data removed]"
          },
          "metadata": {}
        }
      ]
    },
    {
      "cell_type": "markdown",
      "source": [
        "# Find Models params"
      ],
      "metadata": {
        "id": "_ByhqVMDtkVx"
      }
    },
    {
      "cell_type": "code",
      "source": [
        "model.state_dict()"
      ],
      "metadata": {
        "colab": {
          "base_uri": "https://localhost:8080/"
        },
        "id": "JhZLCT-PtOMI",
        "outputId": "be809b62-921b-4042-9e80-d5a0d081cd3c"
      },
      "execution_count": null,
      "outputs": [
        {
          "output_type": "execute_result",
          "data": {
            "text/plain": [
              "OrderedDict([('weights', tensor([0.9854])), ('bias', tensor([0.0006]))])"
            ]
          },
          "metadata": {},
          "execution_count": 41
        }
      ]
    },
    {
      "cell_type": "code",
      "source": [
        "plot_pred(Xtrain,ytrain,Xtest,ytest,ypred)"
      ],
      "metadata": {
        "colab": {
          "base_uri": "https://localhost:8080/",
          "height": 331
        },
        "id": "jW-WrhqxDAA6",
        "outputId": "00f9279f-93b2-4726-8640-aa819d5653d0"
      },
      "execution_count": null,
      "outputs": [
        {
          "output_type": "display_data",
          "data": {
            "text/plain": [
              "<Figure size 640x480 with 1 Axes>"
            ],
            "image/png": "[encoded data removed]"
          },
          "metadata": {}
        }
      ]
    },
    {
      "cell_type": "markdown",
      "source": [
        "# Model Save and Load"
      ],
      "metadata": {
        "id": "bR94py5H8RTB"
      }
    },
    {
      "cell_type": "code",
      "source": [
        "from pathlib import Path\n",
        "\n",
        "modelpath = Path(\"models\")      # create a Directory\n",
        "modelpath.mkdir(parents=True, exist_ok=True)  # put created directory in current path\n",
        "\n",
        "                                        # parents tells how the method handles missing parent directories. There are two options:\n",
        "                                              # With the default False, Path.mkdir() generates the FileNotFoundError exception when one or\n",
        "                                              # more parent directories are missing. So the standard behaviour is not to make those directories.\n",
        "                                              # With True, Path.mkdir() makes any missing parent directories in the specified path.\n",
        "                                       # exist_ok controls how the method handles existing paths. Options are:\n",
        "                                              # With the default False, Path.mkdir() raises the FileExistsError when the path already exists.\n",
        "                                              # With True, Path.mkdir() the method fails silently when the path already exists.\n",
        "modelname = 'lin regression pytorch.pt'\n",
        "\n",
        "fullpath = modelpath / modelname\n",
        "\n",
        "print(fullpath)\n",
        "torch.save(obj = model.state_dict(),f = fullpath) # save the model's state dictionary onto the path created\n",
        "\n",
        "\n"
      ],
      "metadata": {
        "id": "ReL_DNOhC3G3",
        "colab": {
          "base_uri": "https://localhost:8080/"
        },
        "outputId": "5fc69736-7f1f-46bf-8218-b72a64c176c2"
      },
      "execution_count": null,
      "outputs": [
        {
          "output_type": "stream",
          "name": "stdout",
          "text": [
            "models/lin regression pytorch.pt\n"
          ]
        }
      ]
    },
    {
      "cell_type": "code",
      "source": [
        "!ls"
      ],
      "metadata": {
        "colab": {
          "base_uri": "https://localhost:8080/"
        },
        "id": "l3KH-Wnb_D3m",
        "outputId": "ffe734de-5f56-46e0-9821-25844f69f12a"
      },
      "execution_count": null,
      "outputs": [
        {
          "output_type": "stream",
          "name": "stdout",
          "text": [
            "models\tsample_data\n"
          ]
        }
      ]
    },
    {
      "cell_type": "code",
      "source": [
        "model = torch.load(f = fullpath)           # load the model's state dictionary"
      ],
      "metadata": {
        "id": "G7_aERQv_G6m"
      },
      "execution_count": null,
      "outputs": []
    },
    {
      "cell_type": "code",
      "source": [
        "model"
      ],
      "metadata": {
        "colab": {
          "base_uri": "https://localhost:8080/"
        },
        "id": "Pbx27c74_1tc",
        "outputId": "28650f7a-09e7-4de4-866a-b9010081032f"
      },
      "execution_count": null,
      "outputs": [
        {
          "output_type": "execute_result",
          "data": {
            "text/plain": [
              "OrderedDict([('weights', tensor([0.9854])), ('bias', tensor([0.0006]))])"
            ]
          },
          "metadata": {},
          "execution_count": 46
        }
      ]
    },
    {
      "cell_type": "markdown",
      "source": [
        "# Using Pre built Classes like nn.Linear()"
      ],
      "metadata": {
        "id": "oUy_hdyRDHwY"
      }
    },
    {
      "cell_type": "code",
      "source": [
        "class LinearRegression2(nn.Module):\n",
        "  def __init__(self):\n",
        "    super().__init__()\n",
        "    self.linear_layer = nn.Linear(in_features = 1, out_features = 1)\n",
        "                                                                      # Note that simple Lin Reg is same as single neuron with one input feature\n",
        "                                                                      # and one single output. The multilinear Reg would have single neuron,\n",
        "                                                                      # more than 1 input features and single output.\n",
        "                                                                      # This code defines the linear layer itself using the nn.Linear class from PyTorch's nn module.\n",
        "                                                                      # This class is used to create fully-connected layers, which are essential components of many neural networks.\n",
        "# In essence, this line creates a linear layer that takes a single input value, performs a linear transformation on it using weights and biases,\n",
        "# and finally outputs a single value.\n",
        "\n",
        "  def forward(self,x:torch.tensor)->torch.tensor:\n",
        "    return self.linear_layer(x)\n",
        "                                                                      # This method takes an input tensor x, passes it through the linear layer\n",
        "                                                                      # stored in the linear_layer member variable, and returns the transformed\n",
        "                                                                      # output as another tensor."
      ],
      "metadata": {
        "id": "_H7xhLCu_3h9"
      },
      "execution_count": null,
      "outputs": []
    },
    {
      "cell_type": "code",
      "source": [
        "torch.manual_seed(42)\n",
        "\n",
        "model2 = LinearRegression2()\n",
        "\n",
        "print(model2.state_dict())\n",
        "\n",
        "#with torch.inference_mode():\n",
        "#  ypred3 = model2(Xtest)\n",
        "# plot_pred(ypred3)"
      ],
      "metadata": {
        "colab": {
          "base_uri": "https://localhost:8080/"
        },
        "id": "zwZIAb1kHOgZ",
        "outputId": "7b48d29f-677f-4a72-916b-931c703a05f7"
      },
      "execution_count": null,
      "outputs": [
        {
          "output_type": "stream",
          "name": "stdout",
          "text": [
            "OrderedDict([('linear_layer.weight', tensor([[0.7645]])), ('linear_layer.bias', tensor([0.8300]))])\n"
          ]
        }
      ]
    },
    {
      "cell_type": "markdown",
      "source": [
        "And the Rest of the gradient descent can be followed for this one\n",
        "as well."
      ],
      "metadata": {
        "id": "OHtYB6ue5kvv"
      }
    },
    {
      "cell_type": "code",
      "source": [],
      "metadata": {
        "id": "tBFij7YD5yQn"
      },
      "execution_count": null,
      "outputs": []
    }
  ]
}